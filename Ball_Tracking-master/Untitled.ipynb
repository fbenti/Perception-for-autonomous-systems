{
 "cells": [
  {
   "cell_type": "code",
   "execution_count": 2,
   "id": "given-ferry",
   "metadata": {},
   "outputs": [
    {
     "ename": "NameError",
     "evalue": "name 'detectBall' is not defined",
     "output_type": "error",
     "traceback": [
      "\u001b[1;31m---------------------------------------------------------------------------\u001b[0m",
      "\u001b[1;31mNameError\u001b[0m                                 Traceback (most recent call last)",
      "\u001b[1;32m<ipython-input-2-b026acf9a9be>\u001b[0m in \u001b[0;36m<module>\u001b[1;34m\u001b[0m\n\u001b[0;32m     59\u001b[0m \u001b[1;33m\u001b[0m\u001b[0m\n\u001b[0;32m     60\u001b[0m \u001b[1;32mif\u001b[0m \u001b[0m__name__\u001b[0m \u001b[1;33m==\u001b[0m \u001b[1;34m\"__main__\"\u001b[0m\u001b[1;33m:\u001b[0m\u001b[1;33m\u001b[0m\u001b[1;33m\u001b[0m\u001b[0m\n\u001b[1;32m---> 61\u001b[1;33m     \u001b[0mmain\u001b[0m\u001b[1;33m(\u001b[0m\u001b[1;33m)\u001b[0m\u001b[1;33m\u001b[0m\u001b[1;33m\u001b[0m\u001b[0m\n\u001b[0m",
      "\u001b[1;32m<ipython-input-2-b026acf9a9be>\u001b[0m in \u001b[0;36mmain\u001b[1;34m()\u001b[0m\n\u001b[0;32m     30\u001b[0m         \u001b[1;32mif\u001b[0m \u001b[0mret\u001b[0m \u001b[1;33m==\u001b[0m \u001b[1;32mTrue\u001b[0m\u001b[1;33m:\u001b[0m\u001b[1;33m\u001b[0m\u001b[1;33m\u001b[0m\u001b[0m\n\u001b[0;32m     31\u001b[0m             \u001b[0mframes\u001b[0m\u001b[1;33m.\u001b[0m\u001b[0mappend\u001b[0m\u001b[1;33m(\u001b[0m\u001b[0mframe\u001b[0m\u001b[1;33m)\u001b[0m\u001b[1;33m\u001b[0m\u001b[1;33m\u001b[0m\u001b[0m\n\u001b[1;32m---> 32\u001b[1;33m             \u001b[0mbcenter\u001b[0m \u001b[1;33m=\u001b[0m \u001b[0mdetectBall\u001b[0m\u001b[1;33m(\u001b[0m\u001b[0mframe\u001b[0m\u001b[1;33m)\u001b[0m\u001b[1;33m\u001b[0m\u001b[1;33m\u001b[0m\u001b[0m\n\u001b[0m\u001b[0;32m     33\u001b[0m             \u001b[1;32mtry\u001b[0m\u001b[1;33m:\u001b[0m\u001b[1;33m\u001b[0m\u001b[1;33m\u001b[0m\u001b[0m\n\u001b[0;32m     34\u001b[0m                 \u001b[1;32mif\u001b[0m\u001b[1;33m(\u001b[0m\u001b[0mlen\u001b[0m\u001b[1;33m(\u001b[0m\u001b[0mbcenter\u001b[0m\u001b[1;33m)\u001b[0m \u001b[1;33m>\u001b[0m \u001b[1;36m0\u001b[0m \u001b[1;32mand\u001b[0m \u001b[0mflag\u001b[0m \u001b[1;33m==\u001b[0m \u001b[1;36m1\u001b[0m\u001b[1;33m)\u001b[0m\u001b[1;33m:\u001b[0m\u001b[1;33m\u001b[0m\u001b[1;33m\u001b[0m\u001b[0m\n",
      "\u001b[1;31mNameError\u001b[0m: name 'detectBall' is not defined"
     ]
    }
   ],
   "source": [
    "\"\"\"\n",
    "To run the algorithm on a video\n",
    "\n",
    "\"\"\"\n",
    "import time\n",
    "import cv2\n",
    "import detector\n",
    "from kalmanfilter import KalmanFilter\n",
    "\n",
    "def main():\n",
    "\n",
    "    start_time = time.time()\n",
    "\n",
    "    vid = cv2.VideoCapture('rolling_ball.mp4')\n",
    "\n",
    "    fps = vid.get(cv2.CAP_PROP_FPS)\n",
    "    frame_width = int(vid.get(3))\n",
    "    frame_height = int(vid.get(4))\n",
    "\n",
    "    detector = Detectors()\n",
    "\n",
    "    skipframes = 1 #No of frames skipped + 1 (Time between successive frames given for detection)\n",
    "    flag = 1 #To find the first detection\n",
    "\n",
    "    track = [] #Keeps Track of most likely state vectors\n",
    "    frames = [] #Stores frames of the video\n",
    "\n",
    "    while(vid.isOpened()):\n",
    "        ret, frame = vid.read();\n",
    "        if ret == True:\n",
    "            frames.append(frame)\n",
    "            bcenter = DetedetectBall(frame)\n",
    "            try:\n",
    "                if(len(bcenter) > 0 and flag == 1):\n",
    "                    KF = KalmanFilter(bcenter[0], bcenter[1], fps, skipframes)\n",
    "                    track.append(KF.xk)\n",
    "                    flag = 0\n",
    "\n",
    "                xp = KF.predict()\n",
    "                xmp = KF.update(bcenter[0], bcenter[1])\n",
    "                track.append(xmp)\n",
    "            except TypeError:\n",
    "                pass\n",
    "        else:\n",
    "            break\n",
    "\n",
    "    vid.release()\n",
    "\n",
    "    print(\"Time to execute : %s seconds\" % (time.time()-start_time))\n",
    "\n",
    "    #Writing to video\n",
    "    out = cv2.VideoWriter('vid2Kalman.avi',cv2.VideoWriter_fourcc('M','P','E','G'), 10, (frame_width,frame_height))\n",
    "    for i in range(len(frames)):\n",
    "      print(i)\n",
    "      cv2.circle(frames[i], (int(track[i][0]), int(track[i][1])), 10, (255,255,255), 4)\n",
    "      out.write(frames[i])\n",
    "\n",
    "    out.release()\n",
    "\n",
    "if __name__ == \"__main__\":\n",
    "    main()\n"
   ]
  },
  {
   "cell_type": "code",
   "execution_count": null,
   "id": "expressed-mainland",
   "metadata": {},
   "outputs": [],
   "source": []
  }
 ],
 "metadata": {
  "kernelspec": {
   "display_name": "Python 3",
   "language": "python",
   "name": "python3"
  },
  "language_info": {
   "codemirror_mode": {
    "name": "ipython",
    "version": 3
   },
   "file_extension": ".py",
   "mimetype": "text/x-python",
   "name": "python",
   "nbconvert_exporter": "python",
   "pygments_lexer": "ipython3",
   "version": "3.7.9"
  }
 },
 "nbformat": 4,
 "nbformat_minor": 5
}
