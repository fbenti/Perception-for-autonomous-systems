{
 "cells": [
  {
   "cell_type": "markdown",
   "metadata": {},
   "source": [
    "# Weekly project 6\n",
    "Today we will continue work from monday.\n",
    "We will follow the style of last week.\n",
    "\n",
    "Weekly project:\n",
    "- You will need to implement your own k-means algorithm. (So you are not allowed to use the one in *sklearn*)\n",
    "- it should be able to cluster each of the different figures.\n",
    "- Extend your k-means so it finds the optimal amount of clusters.\n",
    "Challenge\n",
    "- Implement the mean shift clustering algorithm\n"
   ]
  },
  {
   "cell_type": "code",
   "execution_count": null,
   "metadata": {},
   "outputs": [],
   "source": [
    "import numpy as np\n",
    "import open3d as o3d\n",
    "import copy\n",
    "from matplotlib import pyplot as plt\n",
    "from sklearn.cluster import KMeans, k_means\n",
    "%matplotlib notebook\n",
    "\n",
    "def draw_labels_on_model(pcl, labels):\n",
    "    cmap = plt.get_cmap(\"tab20\")\n",
    "    pcl_temp = copy.deepcopy(pcl)\n",
    "    max_label = labels.max()\n",
    "    colors = cmap(labels / (max_label if max_label > 0 else 1))\n",
    "    colors[labels < 0] = 0\n",
    "    pcl_temp.colors = o3d.utility.Vector3dVector(colors[:, :3])\n",
    "    o3d.visualization.draw_geometries([pcl_temp])\n",
    "\n",
    "d = 4\n",
    "mesh = o3d.geometry.TriangleMesh.create_tetrahedron().translate((-d, 0, 0))\n",
    "mesh += o3d.geometry.TriangleMesh.create_octahedron().translate((0, 0, 0))\n",
    "mesh += o3d.geometry.TriangleMesh.create_icosahedron().translate((d, 0, 0))\n",
    "mesh += o3d.geometry.TriangleMesh.create_torus().translate((-d, -d, 0))\n",
    "mesh += o3d.geometry.TriangleMesh.create_moebius(twists=1).translate((0, -d, 0))\n",
    "mesh += o3d.geometry.TriangleMesh.create_moebius(twists=2).translate((d, -d, 0))\n",
    "\n",
    "## apply k means on this\n",
    "point_cloud = mesh.sample_points_uniformly(int(1e5))\n",
    "xyz = np.asarray(point_cloud.points)"
   ]
  },
  {
   "cell_type": "code",
   "execution_count": null,
   "metadata": {},
   "outputs": [],
   "source": [
    "def RandomCentroids(points, k):\n",
    "    n_samples, n_features = np.shape(points)\n",
    "    #make a zero matrix to store values\n",
    "    centroids = np.zeros((k, n_features))\n",
    "    #bcs there is k centroids, so we loop k tiems\n",
    "    for i in range(k):\n",
    "        #selecting values under the range radomly\n",
    "        centroid = points[np.random.choice(range(n_samples))]\n",
    "        centroids[i] = centroid\n",
    "    return centroids\n",
    "\n",
    "def EuclidianDistance(point, centroids):\n",
    "    #transform single point into 1D vector\n",
    "    point = point.reshape(1,-1)\n",
    "    #transform Centroids into 1D vector\n",
    "    centroids = centroids.reshape(centroids.shape[0], -1)\n",
    "    distances = np.power(np.tile(point,(centroids.shape[0],1))-centroids,2).sum(axis=1)\n",
    "    return distances # each element is the Euclidian distance from one of the centroids\n",
    "\n",
    "def ClosestCentroid(point, centroids):\n",
    "    distances = EuclidianDistance(point, centroids)\n",
    "    closest_i = np.argmin(distances) # return the indices\n",
    "    return closest_i\n",
    "    \n",
    "def CreateCluster(points, centroids, k):\n",
    "    n_samples = np.shape(points)[0]\n",
    "    #This is to construct the nested list for storing clusters\n",
    "    clusters = [[] for _ in range(k)]\n",
    "    for sample_i, sample in enumerate(points):\n",
    "        centroid_i = ClosestCentroid(sample, centroids)\n",
    "        clusters[centroid_i].append(sample_i)\n",
    "    return clusters\n",
    "\n",
    "#update the centroids based on mean algorithm\n",
    "def UpdateCentroids(clusters, points, k):\n",
    "    n_features = np.shape(points)[1]\n",
    "    centroids = np.zeros((k, n_features))\n",
    "    for i, cluster in enumerate(clusters):\n",
    "        centroid = np.mean(points[cluster],axis=0)\n",
    "        centroids[i] = centroid\n",
    "    return centroids\n",
    "\n",
    "#obtain the labels\n",
    "#same cluster, same y_pred value\n",
    "def GetClusterLabels(clusters, points):\n",
    "    y_pred = np.zeros(np.shape(points)[0])\n",
    "    for cluster_i, cluster in enumerate(clusters):\n",
    "        for sample_i in cluster:\n",
    "            y_pred[sample_i] = cluster_i\n",
    "    return y_pred\n",
    "\n",
    "#predict the labels\n",
    "def Predict(points, k, max_iterations, tolerance):\n",
    "    #selecting the centroids randomly\n",
    "    centroids = RandomCentroids(points, k)\n",
    "\n",
    "    for _ in range(max_iterations):\n",
    "        #clustering all the data point\n",
    "        clusters = CreateCluster(points, centroids, k)\n",
    "        former_centroids = centroids\n",
    "        #calculate new cluster center\n",
    "        centroids = UpdateCentroids(clusters, points, k)\n",
    "        #judge the current difference if it meets convergence  \n",
    "        diff = centroids - former_centroids\n",
    "        if diff.any() < tolerance:\n",
    "            break\n",
    "\n",
    "    return GetClusterLabels(clusters, points)"
   ]
  },
  {
   "cell_type": "code",
   "execution_count": null,
   "metadata": {
    "scrolled": false
   },
   "outputs": [],
   "source": [
    "labels = Predict(xyz, 6, max_iterations=1500,tolerance=0.000001)\n",
    "draw_labels_on_model(point_cloud,labels)"
   ]
  },
  {
   "cell_type": "markdown",
   "metadata": {},
   "source": [
    " "
   ]
  }
 ],
 "metadata": {
  "kernelspec": {
   "display_name": "Python 3",
   "language": "python",
   "name": "python3"
  },
  "language_info": {
   "codemirror_mode": {
    "name": "ipython",
    "version": 3
   },
   "file_extension": ".py",
   "mimetype": "text/x-python",
   "name": "python",
   "nbconvert_exporter": "python",
   "pygments_lexer": "ipython3",
   "version": "3.7.9"
  },
  "toc": {
   "base_numbering": 1,
   "nav_menu": {},
   "number_sections": true,
   "sideBar": true,
   "skip_h1_title": false,
   "title_cell": "Table of Contents",
   "title_sidebar": "Contents",
   "toc_cell": false,
   "toc_position": {},
   "toc_section_display": true,
   "toc_window_display": false
  },
  "varInspector": {
   "cols": {
    "lenName": 16,
    "lenType": 16,
    "lenVar": 40
   },
   "kernels_config": {
    "python": {
     "delete_cmd_postfix": "",
     "delete_cmd_prefix": "del ",
     "library": "var_list.py",
     "varRefreshCmd": "print(var_dic_list())"
    },
    "r": {
     "delete_cmd_postfix": ") ",
     "delete_cmd_prefix": "rm(",
     "library": "var_list.r",
     "varRefreshCmd": "cat(var_dic_list()) "
    }
   },
   "types_to_exclude": [
    "module",
    "function",
    "builtin_function_or_method",
    "instance",
    "_Feature"
   ],
   "window_display": false
  }
 },
 "nbformat": 4,
 "nbformat_minor": 4
}
