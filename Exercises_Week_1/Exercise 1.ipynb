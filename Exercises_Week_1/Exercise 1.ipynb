{
 "cells": [
  {
   "cell_type": "code",
   "execution_count": null,
   "metadata": {},
   "outputs": [],
   "source": [
    "import cv2\n",
    "import numpy as np\n",
    "from matplotlib import pyplot as plt\n",
    "!pip install imutils\n",
    "import imutils "
   ]
  },
  {
   "cell_type": "markdown",
   "metadata": {},
   "source": [
    "Load the input image and show its dimensions, keeping in mind that images are represented as a multi-dimensional NumPy array with shape no. rows (height) x no. columns (width) x no. channels (depth)\n",
    "\n",
    "OpenCV stores images in BGR order rather than RGB so we swap the ordering of the channels"
   ]
  },
  {
   "cell_type": "code",
   "execution_count": null,
   "metadata": {},
   "outputs": [],
   "source": [
    "bgr_img = cv2.imread(\"jp.png\")\n",
    "b,g,r = cv2.split(bgr_img)       # get b,g,r\n",
    "image = cv2.merge([r,g,b])\n",
    "(h, w, d) = image.shape\n",
    "print(\"width={}, height={}, depth={}\".format(w, h, d))"
   ]
  },
  {
   "cell_type": "code",
   "execution_count": null,
   "metadata": {},
   "outputs": [],
   "source": [
    "plt.imshow(image)"
   ]
  },
  {
   "cell_type": "markdown",
   "metadata": {},
   "source": [
    "Access the RGB pixel located at x=50, y=100"
   ]
  },
  {
   "cell_type": "code",
   "execution_count": null,
   "metadata": {},
   "outputs": [],
   "source": [
    "(R, G, B) = image[100, 50]\n",
    "print(\"R={}, G={}, B={}\".format(R, G, B))"
   ]
  },
  {
   "cell_type": "markdown",
   "metadata": {},
   "source": [
    "An image consists of multiple channels\n",
    "We can split them up\n",
    "\n",
    "and then display each image"
   ]
  },
  {
   "cell_type": "code",
   "execution_count": null,
   "metadata": {},
   "outputs": [],
   "source": [
    "titles=['r','g','b']\n",
    "plt.figure(figsize = (16,4))\n",
    "for i in range(3):\n",
    "    channel = np.zeros_like(image)\n",
    "    channel[:,:,i] = image[:,:,i]\n",
    "    plt.subplot(1,3,i+1), plt.imshow(channel)\n",
    "    plt.title(titles[i])\n",
    "    plt.xticks([]),plt.yticks([])\n",
    "plt.show()\n"
   ]
  },
  {
   "cell_type": "markdown",
   "metadata": {},
   "source": [
    "Extract a 100x100 pixel square ROI (Region of Interest) from the\n",
    "input image starting at x=320,y=60 at ending at x=420,y=160"
   ]
  },
  {
   "cell_type": "code",
   "execution_count": null,
   "metadata": {},
   "outputs": [],
   "source": [
    "roi = image[60:160, 320:420]\n",
    "plt.imshow(roi)"
   ]
  },
  {
   "cell_type": "markdown",
   "metadata": {},
   "source": [
    "Resize the image to 200x200px, ignoring aspect ratio"
   ]
  },
  {
   "cell_type": "code",
   "execution_count": null,
   "metadata": {},
   "outputs": [],
   "source": [
    "resized = cv2.resize(image, (200, 200))\n",
    "plt.imshow(resized)"
   ]
  },
  {
   "cell_type": "markdown",
   "metadata": {},
   "source": [
    "Fixed resizing and distort aspect ratio so let's resize the width to be 300px but compute the new height based on the aspect ratio"
   ]
  },
  {
   "cell_type": "code",
   "execution_count": null,
   "metadata": {},
   "outputs": [],
   "source": [
    "r = 300.0 / w\n",
    "dim = (300, int(h * r))\n",
    "resized = cv2.resize(image, dim)\n",
    "plt.imshow(resized)"
   ]
  },
  {
   "cell_type": "markdown",
   "metadata": {},
   "source": [
    "Manually computing the aspect ratio can be a pain so let's use the imutils library instead"
   ]
  },
  {
   "cell_type": "code",
   "execution_count": null,
   "metadata": {},
   "outputs": [],
   "source": [
    "resized = imutils.resize(image, width=300)\n",
    "plt.imshow(resized)"
   ]
  },
  {
   "cell_type": "markdown",
   "metadata": {},
   "source": [
    "Let's rotate an image 45 degrees clockwise using OpenCV by first computing the image center, then constructing the rotation matrix, and then finally applying the affine warp"
   ]
  },
  {
   "cell_type": "code",
   "execution_count": null,
   "metadata": {},
   "outputs": [],
   "source": [
    "center = (w // 2, h // 2)\n",
    "M = cv2.getRotationMatrix2D(center, -45, 1.0)\n",
    "rotated = cv2.warpAffine(image, M, (w, h))\n",
    "plt.imshow(rotated)"
   ]
  },
  {
   "cell_type": "markdown",
   "metadata": {},
   "source": [
    "Rotation can also be easily accomplished via imutils with less code"
   ]
  },
  {
   "cell_type": "code",
   "execution_count": null,
   "metadata": {},
   "outputs": [],
   "source": [
    "rotated = imutils.rotate(image, -45)\n",
    "plt.imshow(rotated)"
   ]
  },
  {
   "cell_type": "markdown",
   "metadata": {},
   "source": [
    "OpenCV doesn't \"care\" if our rotated image is clipped after rotation so we can instead use another imutils convenience function to help us out"
   ]
  },
  {
   "cell_type": "code",
   "execution_count": null,
   "metadata": {},
   "outputs": [],
   "source": [
    "rotated = imutils.rotate_bound(image, 45)\n",
    "plt.imshow(rotated)"
   ]
  },
  {
   "cell_type": "markdown",
   "metadata": {},
   "source": [
    "Apply a Gaussian blur with a 11x11 kernel to the image to smooth it, this is useful when reducing high frequency noise.\n",
    "\n",
    "Try playing around with the Kernel Size what does that do?"
   ]
  },
  {
   "cell_type": "code",
   "execution_count": null,
   "metadata": {},
   "outputs": [],
   "source": [
    "kernel = (11,11)\n",
    "\n",
    "blurred = cv2.GaussianBlur(image, kernel, 0)\n",
    "plt.imshow(blurred)"
   ]
  },
  {
   "cell_type": "markdown",
   "metadata": {},
   "source": [
    "Draw a 2px thick red rectangle surrounding the face"
   ]
  },
  {
   "cell_type": "code",
   "execution_count": null,
   "metadata": {},
   "outputs": [],
   "source": [
    "output = image.copy()\n",
    "cv2.rectangle(output, (320, 60), (420, 160), (0, 0, 255), 2)\n",
    "plt.imshow(output)"
   ]
  },
  {
   "cell_type": "markdown",
   "metadata": {},
   "source": [
    "Draw a blue 20px (filled in) circle on the image centered at x=300,y=150"
   ]
  },
  {
   "cell_type": "code",
   "execution_count": null,
   "metadata": {},
   "outputs": [],
   "source": [
    "output = image.copy()\n",
    "cv2.circle(output, (300, 150), 20, (255, 0, 0), -1)\n",
    "plt.imshow(output)"
   ]
  },
  {
   "cell_type": "markdown",
   "metadata": {},
   "source": [
    "Draw a 5px thick red line from x=60,y=20 to x=400,y=200"
   ]
  },
  {
   "cell_type": "code",
   "execution_count": null,
   "metadata": {},
   "outputs": [],
   "source": [
    "output = image.copy()\n",
    "cv2.line(output, (60, 20), (400, 200), (0, 0, 255), 5)\n",
    "plt.imshow(output)"
   ]
  },
  {
   "cell_type": "markdown",
   "metadata": {},
   "source": [
    "Draw green text on the image"
   ]
  },
  {
   "cell_type": "code",
   "execution_count": null,
   "metadata": {},
   "outputs": [],
   "source": [
    "output = image.copy()\n",
    "cv2.putText(output, \"OpenCV + Jurassic Park!!!\", (10, 25), \n",
    "            cv2.FONT_HERSHEY_SIMPLEX, 0.7, (0, 255, 0), 2)\n",
    "plt.imshow(output)"
   ]
  },
  {
   "cell_type": "markdown",
   "metadata": {},
   "source": [
    "# Exercise 1 \n",
    "    Find a picture some picture and try to do the same on that image and play around with the parameters. \n",
    "    Don't spend too much time here but remember some of the functions introduced here, continue with Tutorial no.2"
   ]
  }
 ],
 "metadata": {
  "kernelspec": {
   "display_name": "Python 3",
   "language": "python",
   "name": "python3"
  },
  "language_info": {
   "codemirror_mode": {
    "name": "ipython",
    "version": 3
   },
   "file_extension": ".py",
   "mimetype": "text/x-python",
   "name": "python",
   "nbconvert_exporter": "python",
   "pygments_lexer": "ipython3",
   "version": "3.7.9"
  }
 },
 "nbformat": 4,
 "nbformat_minor": 4
}
