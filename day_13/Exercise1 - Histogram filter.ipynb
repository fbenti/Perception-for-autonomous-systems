{
 "cells": [
  {
   "cell_type": "markdown",
   "metadata": {},
   "source": [
    "# Histogram filter\n",
    "\n",
    "Assume we have a robot that can be in one of five blocks. With no other info we calculate the probability of the robot being in each such and plot a histogram of the probabilities:"
   ]
  },
  {
   "cell_type": "code",
   "execution_count": 3,
   "metadata": {},
   "outputs": [],
   "source": [
    "from math import *\n",
    "import numpy as np\n",
    "import matplotlib.pyplot as plt\n",
    "from scipy import ndimage, signal"
   ]
  },
  {
   "cell_type": "code",
   "execution_count": 2,
   "metadata": {},
   "outputs": [
    {
     "data": {
      "text/plain": [
       "<BarContainer object of 5 artists>"
      ]
     },
     "execution_count": 2,
     "metadata": {},
     "output_type": "execute_result"
    },
    {
     "data": {
      "image/png": "[encoded data removed]",
      "text/plain": [
       "<Figure size 432x288 with 1 Axes>"
      ]
     },
     "metadata": {
      "needs_background": "light"
     },
     "output_type": "display_data"
    }
   ],
   "source": [
    "no_of_blocks = 5\n",
    "prb = 1/5\n",
    "\n",
    "p = [prb, prb, prb, prb, prb]\n",
    "\n",
    "plt.bar(range(no_of_blocks), p)"
   ]
  },
  {
   "cell_type": "markdown",
   "metadata": {},
   "source": [
    "Now we say that each block is either red or green and that our robot can sense that colour. We multiply all the correct sensings with 0.6 and the incorrect with 0.2. These values are arbitrary and just represent that the robot has a higher probability to be at a red block if that is what is measured.\n",
    "\n",
    "In the following we define the world and make a function that calculates the new probabilities by using the measurement. We then try it out with a measurement of 'red'.\n",
    "\n",
    "Notice that we divide each probability with the sum of all probabilities in order to get something that adds up to one."
   ]
  },
  {
   "cell_type": "code",
   "execution_count": 3,
   "metadata": {},
   "outputs": [
    {
     "name": "stdout",
     "output_type": "stream",
     "text": [
      "[0.11111111 0.33333333 0.33333333 0.11111111 0.11111111]\n"
     ]
    },
    {
     "data": {
      "text/plain": [
       "<BarContainer object of 5 artists>"
      ]
     },
     "execution_count": 3,
     "metadata": {},
     "output_type": "execute_result"
    },
    {
     "data": {
      "image/png": "[encoded data removed]",
      "text/plain": [
       "<Figure size 432x288 with 1 Axes>"
      ]
     },
     "metadata": {
      "needs_background": "light"
     },
     "output_type": "display_data"
    }
   ],
   "source": [
    "no_of_blocks = 5\n",
    "prb = 1/5\n",
    "p = [prb, prb, prb, prb, prb]\n",
    "\n",
    "world = ['green', 'red', 'red', 'green', 'green']\n",
    "z = 'red' # Measurement\n",
    "pHit = 0.6\n",
    "pMiss = 0.2\n",
    "\n",
    "def sense(p,z):\n",
    "    q = []\n",
    "    for i in range(len(world)):\n",
    "        hit = (z == world[i]) # True if measurement matches this part of the world, false if not.\n",
    "        q.append(p[i]*(hit * pHit + (1- hit) * pMiss))\n",
    "        \n",
    "    q = np.array(q)/sum(q) # Divide the probability with the sum of all probabilities, to make it add up to 1.\n",
    "    return q\n",
    "\n",
    "\n",
    "q = sense(p,z)\n",
    "print(q)\n",
    "\n",
    "plt.bar(range(no_of_blocks), q)"
   ]
  },
  {
   "cell_type": "markdown",
   "metadata": {},
   "source": [
    "Next we make a function that moves the robot. This is easily done using the numpy roll method:"
   ]
  },
  {
   "cell_type": "code",
   "execution_count": 4,
   "metadata": {},
   "outputs": [
    {
     "data": {
      "text/plain": [
       "<BarContainer object of 5 artists>"
      ]
     },
     "execution_count": 4,
     "metadata": {},
     "output_type": "execute_result"
    },
    {
     "data": {
      "image/png": "[encoded data removed]",
      "text/plain": [
       "<Figure size 432x288 with 1 Axes>"
      ]
     },
     "metadata": {
      "needs_background": "light"
     },
     "output_type": "display_data"
    }
   ],
   "source": [
    "def move(p, U):\n",
    "    q=np.roll(p,U)\n",
    "    return q\n",
    "\n",
    "q = move(q, 2)\n",
    "plt.bar(range(no_of_blocks), q)"
   ]
  },
  {
   "cell_type": "markdown",
   "metadata": {},
   "source": [
    "Every time we move there is some uncertainty to the movement, due to measurement uncertainties, etc. We therefore add some uncertainty to the movement. We do this by convolving the uncertainty with the probabilites. We use a scipy filter to do this:"
   ]
  },
  {
   "cell_type": "code",
   "execution_count": 6,
   "metadata": {},
   "outputs": [
    {
     "data": {
      "text/plain": [
       "<BarContainer object of 5 artists>"
      ]
     },
     "execution_count": 6,
     "metadata": {},
     "output_type": "execute_result"
    },
    {
     "data": {
      "image/png": "[encoded data removed]",
      "text/plain": [
       "<Figure size 432x288 with 1 Axes>"
      ]
     },
     "metadata": {
      "needs_background": "light"
     },
     "output_type": "display_data"
    }
   ],
   "source": [
    "move_uncertainty=[0.1 , 0.8, 0.1]\n",
    "\n",
    "def move(p, U, move_uncertainty):\n",
    "    q=np.roll(p,U)\n",
    "    q=ndimage.filters.convolve1d(q,move_uncertainty,mode='wrap')\n",
    "    return q\n",
    "\n",
    "q = move(q, 2, move_uncertainty)\n",
    "plt.bar(range(no_of_blocks), q)"
   ]
  },
  {
   "cell_type": "markdown",
   "metadata": {},
   "source": [
    "Now let's see what happens if we move the robot a thousand times without sensing anything:"
   ]
  },
  {
   "cell_type": "code",
   "execution_count": 7,
   "metadata": {},
   "outputs": [
    {
     "data": {
      "text/plain": [
       "<BarContainer object of 5 artists>"
      ]
     },
     "execution_count": 7,
     "metadata": {},
     "output_type": "execute_result"
    },
    {
     "data": {
      "image/png": "[encoded data removed]",
      "text/plain": [
       "<Figure size 432x288 with 1 Axes>"
      ]
     },
     "metadata": {
      "needs_background": "light"
     },
     "output_type": "display_data"
    }
   ],
   "source": [
    "for i in range(1000):\n",
    "    q = move(q, 2, move_uncertainty)\n",
    "    \n",
    "plt.bar(range(no_of_blocks), q)"
   ]
  },
  {
   "cell_type": "markdown",
   "metadata": {},
   "source": [
    "Let's try both sensing and moving. We write the full code:"
   ]
  },
  {
   "cell_type": "code",
   "execution_count": 20,
   "metadata": {},
   "outputs": [
    {
     "data": {
      "text/plain": [
       "<BarContainer object of 5 artists>"
      ]
     },
     "execution_count": 20,
     "metadata": {},
     "output_type": "execute_result"
    },
    {
     "data": {
      "image/png": "[encoded data removed]",
      "text/plain": [
       "<Figure size 432x288 with 1 Axes>"
      ]
     },
     "metadata": {
      "needs_background": "light"
     },
     "output_type": "display_data"
    }
   ],
   "source": [
    "# We define the world, uncertainties, etc. as before.\n",
    "no_of_blocks = 5\n",
    "prb = 1/5\n",
    "p = [prb, prb, prb, prb, prb]\n",
    "world = ['green', 'red', 'red', 'green', 'green']\n",
    "measurements=['red','green']\n",
    "phit=0.6\n",
    "pmiss=0.2\n",
    "movements =[1, 1]\n",
    "move_uncertainty=[0.1 , 0.8, 0.1]\n",
    "\n",
    "def sense(p, Z):\n",
    "    q=[]\n",
    "    for i in range(len(p)):\n",
    "        hit = (Z == world[i])\n",
    "        q.append(p[i]*(hit * phit + (1- hit) * pmiss))\n",
    "\n",
    "    q = np.array(q)/sum(q)\n",
    "    return q\n",
    "\n",
    "def move(p, U, move_uncertainty):\n",
    "    q=np.roll(p,U)\n",
    "    q=ndimage.filters.convolve1d(q,move_uncertainty,mode='wrap')\n",
    "    return q\n",
    "\n",
    "# We make a loop where we measure and move\n",
    "for i in range(len(movements)):\n",
    "    p=sense(p,measurements[i])\n",
    "    p = move(p, movements[i], move_uncertainty)\n",
    "    \n",
    "plt.bar(range(no_of_blocks),p)"
   ]
  },
  {
   "cell_type": "markdown",
   "metadata": {},
   "source": [
    "# Exercise 1\n",
    "We will now extent the histogram plot to work in 2D. You are given the world map and the move function below. We can now move up, down, left and right in the world. We can plot the map with the probabilities by using plt.imshow.\n",
    "Insert a sense function that will work in 2D, and loop through the measurements and movements, while showing the probabilities using plt.imshow. You will also need to insert a 2D version of the move_uncertainty."
   ]
  },
  {
   "cell_type": "code",
   "execution_count": 8,
   "metadata": {},
   "outputs": [
    {
     "name": "stdout",
     "output_type": "stream",
     "text": [
      "[0.06 0.02 0.02 0.06 0.06 0.06 0.06 0.02 0.06 0.06 0.06 0.06 0.02 0.02\n",
      " 0.06 0.06 0.06 0.06 0.06 0.06]\n"
     ]
    },
    {
     "ename": "IndexError",
     "evalue": "invalid index to scalar variable.",
     "output_type": "error",
     "traceback": [
      "\u001b[1;31m---------------------------------------------------------------------------\u001b[0m",
      "\u001b[1;31mIndexError\u001b[0m                                Traceback (most recent call last)",
      "\u001b[1;32m<ipython-input-8-909a56cd311e>\u001b[0m in \u001b[0;36m<module>\u001b[1;34m\u001b[0m\n\u001b[0;32m     37\u001b[0m \u001b[1;33m\u001b[0m\u001b[0m\n\u001b[0;32m     38\u001b[0m \u001b[1;32mfor\u001b[0m \u001b[0mi\u001b[0m \u001b[1;32min\u001b[0m \u001b[0mrange\u001b[0m\u001b[1;33m(\u001b[0m\u001b[0mlen\u001b[0m\u001b[1;33m(\u001b[0m\u001b[0mmovements\u001b[0m\u001b[1;33m)\u001b[0m\u001b[1;33m)\u001b[0m\u001b[1;33m:\u001b[0m\u001b[1;33m\u001b[0m\u001b[1;33m\u001b[0m\u001b[0m\n\u001b[1;32m---> 39\u001b[1;33m     \u001b[0mp\u001b[0m \u001b[1;33m=\u001b[0m \u001b[0msense\u001b[0m\u001b[1;33m(\u001b[0m\u001b[0mp\u001b[0m\u001b[1;33m,\u001b[0m\u001b[0mmeasurements\u001b[0m\u001b[1;33m[\u001b[0m\u001b[0mi\u001b[0m\u001b[1;33m]\u001b[0m\u001b[1;33m)\u001b[0m\u001b[1;33m\u001b[0m\u001b[1;33m\u001b[0m\u001b[0m\n\u001b[0m\u001b[0;32m     40\u001b[0m     \u001b[0mprint\u001b[0m\u001b[1;33m(\u001b[0m\u001b[0mp\u001b[0m\u001b[1;33m)\u001b[0m\u001b[1;33m\u001b[0m\u001b[1;33m\u001b[0m\u001b[0m\n\u001b[0;32m     41\u001b[0m \u001b[1;33m\u001b[0m\u001b[0m\n",
      "\u001b[1;32m<ipython-input-8-909a56cd311e>\u001b[0m in \u001b[0;36msense\u001b[1;34m(p, z)\u001b[0m\n\u001b[0;32m     31\u001b[0m         \u001b[1;32mfor\u001b[0m \u001b[0mj\u001b[0m \u001b[1;32min\u001b[0m \u001b[0mrange\u001b[0m\u001b[1;33m(\u001b[0m\u001b[1;36m5\u001b[0m\u001b[1;33m)\u001b[0m\u001b[1;33m:\u001b[0m\u001b[1;33m\u001b[0m\u001b[1;33m\u001b[0m\u001b[0m\n\u001b[0;32m     32\u001b[0m             \u001b[0mhit\u001b[0m \u001b[1;33m=\u001b[0m \u001b[1;33m(\u001b[0m\u001b[0mz\u001b[0m \u001b[1;33m==\u001b[0m \u001b[0mworld\u001b[0m\u001b[1;33m[\u001b[0m\u001b[0mi\u001b[0m\u001b[1;33m]\u001b[0m\u001b[1;33m[\u001b[0m\u001b[0mj\u001b[0m\u001b[1;33m]\u001b[0m\u001b[1;33m)\u001b[0m\u001b[1;33m\u001b[0m\u001b[1;33m\u001b[0m\u001b[0m\n\u001b[1;32m---> 33\u001b[1;33m             \u001b[0mq\u001b[0m\u001b[1;33m.\u001b[0m\u001b[0mappend\u001b[0m\u001b[1;33m(\u001b[0m\u001b[0mp\u001b[0m\u001b[1;33m[\u001b[0m\u001b[0mi\u001b[0m\u001b[1;33m]\u001b[0m\u001b[1;33m[\u001b[0m\u001b[0mj\u001b[0m\u001b[1;33m]\u001b[0m\u001b[1;33m*\u001b[0m\u001b[1;33m(\u001b[0m\u001b[0mhit\u001b[0m \u001b[1;33m*\u001b[0m \u001b[0mphit\u001b[0m \u001b[1;33m+\u001b[0m \u001b[1;33m(\u001b[0m\u001b[1;36m1\u001b[0m\u001b[1;33m-\u001b[0m \u001b[0mhit\u001b[0m\u001b[1;33m)\u001b[0m \u001b[1;33m*\u001b[0m \u001b[0mpmiss\u001b[0m\u001b[1;33m)\u001b[0m\u001b[1;33m)\u001b[0m\u001b[1;33m\u001b[0m\u001b[1;33m\u001b[0m\u001b[0m\n\u001b[0m\u001b[0;32m     34\u001b[0m \u001b[1;33m\u001b[0m\u001b[0m\n\u001b[0;32m     35\u001b[0m     \u001b[0mq\u001b[0m \u001b[1;33m=\u001b[0m \u001b[0mnp\u001b[0m\u001b[1;33m.\u001b[0m\u001b[0marray\u001b[0m\u001b[1;33m(\u001b[0m\u001b[0mq\u001b[0m\u001b[1;33m)\u001b[0m\u001b[1;33m/\u001b[0m\u001b[0msum\u001b[0m\u001b[1;33m(\u001b[0m\u001b[0mq\u001b[0m\u001b[1;33m)\u001b[0m\u001b[1;33m\u001b[0m\u001b[1;33m\u001b[0m\u001b[0m\n",
      "\u001b[1;31mIndexError\u001b[0m: invalid index to scalar variable."
     ]
    }
   ],
   "source": [
    "no_of_blocks = 20\n",
    "prb = 1/20\n",
    "\n",
    "# The initial probabilities\n",
    "p=[[prb, prb, prb, prb, prb],\n",
    "   [prb, prb, prb, prb, prb],\n",
    "   [prb, prb, prb, prb, prb],\n",
    "   [prb, prb, prb, prb, prb]]\n",
    "\n",
    "\n",
    "# The world map\n",
    "world = [['red', 'green', 'green', 'red', 'red'],\n",
    "         ['red', 'red', 'green', 'red', 'red'],\n",
    "         ['red', 'red', 'green', 'green', 'red'],\n",
    "         ['red', 'red', 'red', 'red', 'red']]\n",
    "\n",
    "measurements=['red','green', 'green', 'green']\n",
    "phit=0.6\n",
    "pmiss=0.2\n",
    "movements =['up', 'up', 'up', 'left']\n",
    "\n",
    "# Define move_uncertainty\n",
    "# move_uncertainty = \n",
    "move_uncertainty=[[0.1 , 0.8, 0.1], [0.1 , 0.8, 0.1]]\n",
    "\n",
    "def sense(p, z):\n",
    "    ### Write a sense function that works in 2D ###\n",
    "    q=[]\n",
    "    \n",
    "    for i in range(len(p)):\n",
    "        for j in range(5):\n",
    "            hit = (z == world[i][j])\n",
    "            q.append(p[i][j]*(hit * phit + (1- hit) * pmiss))\n",
    "            \n",
    "    q = np.array(q)/sum(q)\n",
    "    return q\n",
    "\n",
    "for i in range(len(movements)):\n",
    "    p = sense(p,measurements[i])\n",
    "    print(p)\n",
    "    \n",
    "def move(p, u, move_uncertainty):\n",
    "    if u == 'up':\n",
    "        q = np.roll(p, -1, axis=0)\n",
    "    elif u== 'down':\n",
    "        q = np.roll(p, 1, axis=0)\n",
    "    elif u == 'right':\n",
    "        q = np.roll(p, 1, axis=1)\n",
    "    elif u == 'left':\n",
    "        q = np.roll(p, -1, axis=1)\n",
    "    q = signal.convolve2d(q, move_uncertainty, boundary='wrap', mode='same')\n",
    "    return q\n",
    "\n",
    "\n",
    "# Loop through the measurements and movements\n",
    "# for i in range(...)\n",
    "#     sense(...)\n",
    "#     move(...)\n",
    "#     plt.subplot()\n",
    "#     plt.imshow()\n"
   ]
  },
  {
   "cell_type": "code",
   "execution_count": null,
   "metadata": {},
   "outputs": [],
   "source": []
  }
 ],
 "metadata": {
  "kernelspec": {
   "display_name": "Python 3",
   "language": "python",
   "name": "python3"
  },
  "language_info": {
   "codemirror_mode": {
    "name": "ipython",
    "version": 3
   },
   "file_extension": ".py",
   "mimetype": "text/x-python",
   "name": "python",
   "nbconvert_exporter": "python",
   "pygments_lexer": "ipython3",
   "version": "3.7.9"
  }
 },
 "nbformat": 4,
 "nbformat_minor": 2
}
